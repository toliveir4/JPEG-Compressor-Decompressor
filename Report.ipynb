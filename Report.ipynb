{
 "cells": [
  {
   "cell_type": "markdown",
   "metadata": {},
   "source": [
    "![UC logo](FCTUC_H_FundoClaro.png)"
   ]
  },
  {
   "cell_type": "markdown",
   "metadata": {},
   "source": [
    "# JPEG Compressor and Decompressor\n",
    "\n",
    "## Report + Code\n",
    "\n",
    "__Done by:__\n",
    "- Marco Pais - Nº 2019218\n",
    "- Tiago Oliveira - Nº 2019219068\n",
    "- Emílio - "
   ]
  },
  {
   "cell_type": "markdown",
   "metadata": {},
   "source": [
    "## Introduction"
   ]
  },
  {
   "cell_type": "markdown",
   "metadata": {},
   "source": [
    "## Exercise 1"
   ]
  },
  {
   "cell_type": "markdown",
   "metadata": {},
   "source": [
    "## Exercise 2"
   ]
  },
  {
   "cell_type": "code",
   "execution_count": null,
   "metadata": {},
   "outputs": [],
   "source": [
    "def encoder():  # 2\n",
    "\n",
    "    img = openImage()\n",
    "\n",
    "    # cm = getColormap() # 3.2\n",
    "\n",
    "    # viewColormap(cm, img) # 3.3\n",
    "\n",
    "    img = addPadding(img)  # 4.1\n",
    "\n",
    "    global RGBBefore\n",
    "    RGBBefore = img\n",
    "    \n",
    "    R, G, B = separateRGB(img)  # 3.4\n",
    "    viewChanels(R, G, B) # 3.5\n",
    "\n",
    "    YCbCr = RGBtoYCbCr(R, G, B)  # 5\n",
    "    showYCbCr(YCbCr) # 5\n",
    "\n",
    "    YD, CbD, CrD = downSample(YCbCr, dSample)  # 6\n",
    "    showDownSample(YD, CbD, CrD) # 6\n",
    "\n",
    "    Y_dct, Cb_dct, Cr_dct = calcDCT_8x8_64x64(YD, CbD, CrD)  # 7\n",
    "    showDCT(Y_dct, Cb_dct, Cr_dct) # 7.1.2\n",
    "\n",
    "    Y_Q, Cb_Q, Cr_Q = quantization(Y_dct, Cb_dct, Cr_dct) # 8\n",
    "    showQuantization(Y_Q, Cb_Q, Cr_Q)\n",
    "\n",
    "    Y_dcpm, Cb_dcpm, Cr_dcpm = DCPM(Y_Q, Cb_Q, Cr_Q) # 9\n",
    "    showDCPM(Y_dcpm, Cb_dcpm, Cr_dcpm)\n",
    "\n",
    "    return Y_dcpm, Cb_dcpm, Cr_dcpm"
   ]
  },
  {
   "cell_type": "code",
   "execution_count": null,
   "metadata": {},
   "outputs": [],
   "source": [
    "def decoder(Y_dcpm, Cb_dcpm, Cr_dcpm):  # 2\n",
    "    Y_Q, Cb_Q, Cr_Q = IDCPM(Y_dcpm, Cb_dcpm, Cr_dcpm)\n",
    "\n",
    "    Y_dct, Cb_dct, Cr_dct = deQuantization(Y_Q, Cb_Q, Cr_Q) # 8\n",
    "\n",
    "    Y_enc, Cb_enc, Cr_enc = calcIDCT_8x8_64x64(Y_dct, Cb_dct, Cr_dct)  # 7\n",
    "\n",
    "    YCbCrU = upSample(Y_enc, Cb_enc, Cr_enc, dSample)  # 6\n",
    "    showUpSample(YCbCrU) # 6\n",
    "\n",
    "    RGBAfter = YCbCrtoRGB(YCbCrU)  # 5\n",
    "\n",
    "    RGBAfter = unpadding(RGBAfter)  # 4\n",
    "\n",
    "    showRebuilt(RGBAfter)"
   ]
  },
  {
   "cell_type": "markdown",
   "metadata": {},
   "source": [
    "## Exercise 3"
   ]
  },
  {
   "cell_type": "code",
   "execution_count": null,
   "metadata": {},
   "outputs": [],
   "source": [
    "def openImage():\n",
    "    img = plt.imread(f'imagens/{img_name}.bmp')  # 3.1\n",
    "\n",
    "    plt.figure(figsize=(5, 5))\n",
    "    plt.title(\"Original Image\")\n",
    "    plt.imshow(img)\n",
    "    plt.axis('off')\n",
    "\n",
    "    return img"
   ]
  },
  {
   "cell_type": "markdown",
   "metadata": {},
   "source": [
    "<p align=\"center\">\n",
    "  <img src=\"Original.png\" />\n",
    "</p>"
   ]
  },
  {
   "cell_type": "code",
   "execution_count": null,
   "metadata": {},
   "outputs": [],
   "source": [
    "def getColormap():  # 3.2\n",
    "    inp = str(input(\"Introduza colormap (r, g, b): \"))\n",
    "    r, g, b = inp.split(\",\")\n",
    "    cm = cb_linesr.LinearSegmentedColormap.from_list(\n",
    "        'cm', [(0, 0, 0), (int(r), int(g), int(b))], N=256)\n",
    "    return cm"
   ]
  },
  {
   "cell_type": "code",
   "execution_count": null,
   "metadata": {},
   "outputs": [],
   "source": [
    "def viewColormap(cm, img):  # 3.3\n",
    "    plt.figure()\n",
    "    plt.imshow(img, cm)"
   ]
  },
  {
   "cell_type": "code",
   "execution_count": null,
   "metadata": {},
   "outputs": [],
   "source": [
    "def separateRGB(img):  # 3.4\n",
    "    R = img[:, :, 0]\n",
    "    G = img[:, :, 1]\n",
    "    B = img[:, :, 2]\n",
    "\n",
    "    return R, G, B"
   ]
  },
  {
   "cell_type": "code",
   "execution_count": null,
   "metadata": {},
   "outputs": [],
   "source": [
    "def joinRGB(R, G, B):  # 3.4\n",
    "    RGB = np.dstack((R, G, B))\n",
    "\n",
    "    return RGB"
   ]
  },
  {
   "cell_type": "code",
   "execution_count": null,
   "metadata": {},
   "outputs": [],
   "source": [
    "def viewChanels(R, G, B):  # 3.5\n",
    "    fig = plt.figure(figsize=(15, 5))\n",
    "    plt.axis(\"off\")\n",
    "    fig.add_subplot(131)\n",
    "    plt.title(\"Initial Red\")\n",
    "    plt.imshow(R, cmr)\n",
    "    fig.add_subplot(132)\n",
    "    plt.title(\"Initial Green\")\n",
    "    plt.imshow(G, cmg)\n",
    "    fig.add_subplot(133)\n",
    "    plt.title(\"Initial Blue\")\n",
    "    plt.imshow(B, cmb)"
   ]
  },
  {
   "cell_type": "markdown",
   "metadata": {},
   "source": [
    "<p align=\"center\">\n",
    "  <img src=\"RGB.png\" />\n",
    "</p>"
   ]
  },
  {
   "cell_type": "markdown",
   "metadata": {},
   "source": [
    "## Exercise 4"
   ]
  },
  {
   "cell_type": "code",
   "execution_count": null,
   "metadata": {},
   "outputs": [],
   "source": [
    "def addPadding(img):  # 4.1\n",
    "    global h, w\n",
    "    h, w, _ = np.shape(img)\n",
    "    if opt == 64:\n",
    "        pad = 128\n",
    "    else:\n",
    "        pad = 16\n",
    "\n",
    "    if h % pad != 0:\n",
    "        add = pad - (h % pad)\n",
    "        arr = np.ones(h, dtype=int)\n",
    "        arr[h-1] = add + 1\n",
    "        img = np.repeat(img, arr, axis=0)\n",
    "\n",
    "    if w % pad != 0:\n",
    "        add = pad - (w % pad)\n",
    "        arr = np.ones(w, dtype=int)\n",
    "        arr[w-1] = add + 1\n",
    "        img = np.repeat(img, arr, axis=1)\n",
    "    return img"
   ]
  },
  {
   "cell_type": "code",
   "execution_count": null,
   "metadata": {},
   "outputs": [],
   "source": [
    "def unpadding(RGBAfter):  # 4\n",
    "    R, G, B = separateRGB(RGBAfter)\n",
    "\n",
    "    R = R[:h, :w]\n",
    "    G = G[:h, :w]\n",
    "    B = B[:h, :w]\n",
    "\n",
    "    return joinRGB(R, G, B)"
   ]
  },
  {
   "cell_type": "code",
   "execution_count": null,
   "metadata": {},
   "outputs": [],
   "source": [
    "def showRebuilt(RGBAfter):\n",
    "    plt.figure(figsize=(5, 5))\n",
    "    plt.title(\"Rebuilt Image\")\n",
    "    plt.imshow(RGBAfter)\n",
    "    plt.axis('off')"
   ]
  },
  {
   "cell_type": "markdown",
   "metadata": {},
   "source": [
    "<p align=\"center\">\n",
    "  <img src=\"Rebuilt.png\" />\n",
    "</p>"
   ]
  },
  {
   "cell_type": "markdown",
   "metadata": {},
   "source": [
    "## Exercise 5"
   ]
  },
  {
   "cell_type": "code",
   "execution_count": null,
   "metadata": {},
   "outputs": [],
   "source": [
    "def RGBtoYCbCr(R, G, B):  # 5\n",
    "    matrix = np.array([[0.299, 0.587, 0.114],\n",
    "                       [-0.168736, -0.331264, 0.5],\n",
    "                       [0.5, -0.418688, -0.081312]])\n",
    "\n",
    "    RGB = joinRGB(R, G, B)\n",
    "\n",
    "    YCbCr = RGB.dot(matrix.T)\n",
    "    YCbCr[:, :, [1, 2]] += 128\n",
    "\n",
    "    return YCbCr"
   ]
  },
  {
   "cell_type": "code",
   "execution_count": null,
   "metadata": {},
   "outputs": [],
   "source": [
    "def YCbCrtoRGB(YCbCr):  # 5\n",
    "    matrix = np.array([[0.299, 0.587, 0.114],\n",
    "                       [-0.168736, -0.331264, 0.5],\n",
    "                       [0.5, -0.418688, -0.081312]])\n",
    "\n",
    "    inverted = np.linalg.inv(matrix)\n",
    "    YCbCr[:, :, [1, 2]] -= 128\n",
    "    RGB = YCbCr.dot(inverted.T)\n",
    "    RGB = RGB.round()\n",
    "    RGB[RGB > 255] = 255\n",
    "    RGB[RGB < 0] = 0\n",
    "    RGB = RGB.astype(np.uint8)\n",
    "\n",
    "    comp = RGB == RGBBefore\n",
    "    res = comp.all()\n",
    "    print(\"Equal to original RGB?\\n\" + str(res))\n",
    "\n",
    "    return RGB"
   ]
  },
  {
   "cell_type": "code",
   "execution_count": null,
   "metadata": {},
   "outputs": [],
   "source": [
    "def showYCbCr(YCbCr):  # 5\n",
    "    Y, Cb, Cr = separateYCbCr(YCbCr)\n",
    "\n",
    "    fig = plt.figure(figsize=(15, 5))\n",
    "    plt.axis(\"off\")\n",
    "    fig.add_subplot(131)\n",
    "    plt.title(\"Y Original\")\n",
    "    plt.imshow(Y, cmGray)\n",
    "    fig.add_subplot(132)\n",
    "    plt.title(\"Cb Original\")\n",
    "    plt.imshow(Cb, cmGray)\n",
    "    fig.add_subplot(133)\n",
    "    plt.title(\"Cr Original\")\n",
    "    plt.imshow(Cr, cmGray)"
   ]
  },
  {
   "cell_type": "markdown",
   "metadata": {},
   "source": [
    "<p align=\"center\">\n",
    "  <img src=\"YCbCr.png\" />\n",
    "</p>"
   ]
  },
  {
   "cell_type": "code",
   "execution_count": null,
   "metadata": {},
   "outputs": [],
   "source": [
    "def separateYCbCr(YCbCr):\n",
    "    Y = YCbCr[:, :, 0]\n",
    "    Cb = YCbCr[:, :, 1]\n",
    "    Cr = YCbCr[:, :, 2]\n",
    "\n",
    "    return Y, Cb, Cr"
   ]
  },
  {
   "cell_type": "markdown",
   "metadata": {},
   "source": [
    "## Exercise 6"
   ]
  },
  {
   "cell_type": "code",
   "execution_count": null,
   "metadata": {},
   "outputs": [],
   "source": [
    "def downSample(YCbCr, dSample):  # 6\n",
    "    Y, Cb, Cr = separateYCbCr(YCbCr)\n",
    "\n",
    "    Cb = Cb[:, ::2]\n",
    "    Cr = Cr[:, ::2]\n",
    "\n",
    "    if(dSample == 420):\n",
    "        Cb = Cb[::2, :]\n",
    "        Cr = Cr[::2, :]\n",
    "\n",
    "    return Y, Cb, Cr"
   ]
  },
  {
   "cell_type": "code",
   "execution_count": null,
   "metadata": {},
   "outputs": [],
   "source": [
    "def showDownSample(YD, CbD, CrD):  # 6\n",
    "    fig = plt.figure(figsize=(15, 5))\n",
    "    plt.axis(\"off\")\n",
    "    fig.add_subplot(131)\n",
    "    plt.title(\"Y DownSampled\")\n",
    "    plt.imshow(YD, cmGray)\n",
    "    fig.add_subplot(132)\n",
    "    plt.title(\"Cb Downsampled\")\n",
    "    plt.imshow(CbD, cmGray)\n",
    "    fig.add_subplot(133)\n",
    "    plt.title(\"Cr Downsampled\")\n",
    "    plt.imshow(CrD, cmGray)"
   ]
  },
  {
   "cell_type": "markdown",
   "metadata": {},
   "source": [
    "<p align=\"center\">\n",
    "  <img src=\"Downsample.png\" />\n",
    "</p>"
   ]
  },
  {
   "cell_type": "code",
   "execution_count": null,
   "metadata": {},
   "outputs": [],
   "source": [
    "def upSample(YD, CbD, CrD, dSample):  # 6\n",
    "    CbU = np.repeat(CbD, 2, axis=1)\n",
    "    CrU = np.repeat(CrD, 2, axis=1)\n",
    "\n",
    "    if np.shape(YD)[0] % 2 != 0:\n",
    "        CbU = np.delete(CbU, -1, 0)\n",
    "        CrU = np.delete(CrU, -1, 0)\n",
    "\n",
    "    if dSample == 420:\n",
    "        CbU = np.repeat(CbU, 2, axis=0)\n",
    "        CrU = np.repeat(CrU, 2, axis=0)\n",
    "\n",
    "        if np.shape(YD)[1] % 2 != 0:\n",
    "            CbU = np.delete(CbU, -1, 1)\n",
    "            CrU = np.delete(CrU, -1, 1)\n",
    "\n",
    "    YCbCrU = np.dstack((YD, CbU, CrU))\n",
    "\n",
    "    return YCbCrU"
   ]
  },
  {
   "cell_type": "code",
   "execution_count": null,
   "metadata": {},
   "outputs": [],
   "source": [
    "def showUpSample(YCbCr):\n",
    "    Y, Cb, Cr = separateYCbCr(YCbCr)\n",
    "\n",
    "    fig = plt.figure(figsize=(15, 5))\n",
    "    plt.axis(\"off\")\n",
    "    fig.add_subplot(131)\n",
    "    plt.title(\"Y UpSampled\")\n",
    "    plt.imshow(Y, cmGray)\n",
    "    fig.add_subplot(132)\n",
    "    plt.title(\"Cb UpSampled\")\n",
    "    plt.imshow(Cb, cmGray)\n",
    "    fig.add_subplot(133)\n",
    "    plt.title(\"Cr UpSampled\")\n",
    "    plt.imshow(Cr, cmGray)"
   ]
  },
  {
   "cell_type": "markdown",
   "metadata": {},
   "source": [
    "<p align=\"center\">\n",
    "  <img src=\"Upsample.png\" />\n",
    "</p>"
   ]
  },
  {
   "cell_type": "markdown",
   "metadata": {},
   "source": [
    "## Exercise 7"
   ]
  },
  {
   "cell_type": "code",
   "execution_count": null,
   "metadata": {},
   "outputs": [],
   "source": [
    "def calcDCT_8x8_64x64(YD, CbD, CrD):  # 7\n",
    "    if opt == 8 or opt == 64:\n",
    "        Y_lines, Y_cols = np.shape(YD)\n",
    "        Cb_lines, Cb_cols = np.shape(CbD)\n",
    "\n",
    "        Y_dct = YD\n",
    "        Cb_dct = CbD\n",
    "        Cr_dct = CrD\n",
    "\n",
    "        for i in range(0, Y_lines, opt):\n",
    "            for j in range(0, Y_cols, opt):\n",
    "                Y_dct[i:i+opt, j:j+opt] = dct(dct(Y_dct[i:i + opt,j:j + opt], norm=\"ortho\").T, norm=\"ortho\").T\n",
    "\n",
    "        for i in range(0, Cb_lines, opt):\n",
    "            for j in range(0, Cb_cols, opt):\n",
    "                Cb_dct[i:i + opt, j:j + opt] = dct(dct(Cb_dct[i:i + opt, j:j + opt], norm=\"ortho\").T, norm=\"ortho\").T\n",
    "                Cr_dct[i:i + opt, j:j + opt] = dct(dct(Cr_dct[i:i + opt, j:j + opt], norm=\"ortho\").T, norm=\"ortho\").T\n",
    "    else:\n",
    "        Y_dct = dct(dct(YD, norm='ortho').T, norm='ortho').T\n",
    "        Cb_dct = dct(dct(CbD, norm='ortho').T, norm='ortho').T\n",
    "        Cr_dct = dct(dct(CrD, norm='ortho').T, norm='ortho').T\n",
    "\n",
    "    a = Y_dct.copy()\n",
    "    b = Cb_dct.copy()\n",
    "    c = Cr_dct.copy()\n",
    "\n",
    "    Y_enc, Cb_enc, Cr_enc = calcIDCT_8x8_64x64(Y_dct, Cb_dct, Cr_dct)\n",
    "    comp = Y_enc == YD\n",
    "    res = comp.all()\n",
    "    print(\"Equal to original Y_d?\\n\" + str(res))\n",
    "    comp = Cb_enc == CbD\n",
    "    res = comp.all()\n",
    "    print(\"Equal to original Cb_d?\\n\" + str(res))\n",
    "    comp = Cr_enc == CrD\n",
    "    res = comp.all()\n",
    "    print(\"Equal to original Cr_d?\\n\" + str(res))\n",
    "    \n",
    "    return a, b, c"
   ]
  },
  {
   "cell_type": "code",
   "execution_count": null,
   "metadata": {},
   "outputs": [],
   "source": [
    "def showDCT(Y_dct, Cb_dct, Cr_dct):  # 7.1.2\n",
    "    fig = plt.figure(figsize=(15, 5))\n",
    "    fig.add_subplot(131)\n",
    "    plt.title(\"Y_DCT - \" + str(opt) + \"x\" + str(opt))\n",
    "    plt.imshow(np.log(abs(Y_dct) + 0.0001), cmGray)\n",
    "    fig.add_subplot(132)\n",
    "    plt.title(\"Cb_DCT - \" + str(opt) + \"x\" + str(opt))\n",
    "    plt.imshow(np.log(abs(Cb_dct) + 0.0001), cmGray)\n",
    "    fig.add_subplot(133)\n",
    "    plt.title(\"Cr_DCT - \" + str(opt) + \"x\" + str(opt))\n",
    "    plt.imshow(np.log(abs(Cr_dct) + 0.0001), cmGray)"
   ]
  },
  {
   "cell_type": "markdown",
   "metadata": {},
   "source": [
    "<p align=\"center\">\n",
    "  <img src=\"DCT8x8.png\" />\n",
    "</p>"
   ]
  },
  {
   "cell_type": "code",
   "execution_count": null,
   "metadata": {},
   "outputs": [],
   "source": [
    "def calcIDCT_8x8_64x64(Y_dct, Cb_dct, Cr_dct):  # 7\n",
    "    if opt == 8 or opt == 64:\n",
    "        Y_lines, Y_cols = np.shape(Y_dct)\n",
    "        Cb_lines, Cb_cols = np.shape(Cb_dct)\n",
    "\n",
    "        Y = Y_dct\n",
    "        Cb = Cb_dct\n",
    "        Cr = Cr_dct\n",
    "\n",
    "        for i in range(0, Y_lines, opt):\n",
    "            for j in range(0, Y_cols, opt):\n",
    "                Y[i:i+opt, j:j+opt] = idct(idct(Y[i:i + opt,j:j + opt], norm=\"ortho\").T, norm=\"ortho\").T\n",
    "\n",
    "        for i in range(0, Cb_lines, opt):\n",
    "            for j in range(0, Cb_cols, opt):\n",
    "                Cb[i:i + opt, j:j + opt] = idct(idct(Cb[i:i + opt, j:j + opt], norm=\"ortho\").T, norm=\"ortho\").T\n",
    "                Cr[i:i + opt, j:j + opt] = idct(idct(Cr[i:i + opt, j:j + opt], norm=\"ortho\").T, norm=\"ortho\").T\n",
    "\n",
    "    else:\n",
    "        Y = idct(idct(Y_dct, norm='ortho').T, norm='ortho').T\n",
    "        Cb = idct(idct(Cb_dct, norm='ortho').T, norm='ortho').T\n",
    "        Cr = idct(idct(Cr_dct, norm='ortho').T, norm='ortho').T\n",
    "\n",
    "    return Y, Cb, Cr"
   ]
  },
  {
   "cell_type": "markdown",
   "metadata": {},
   "source": [
    "## Exercise 8"
   ]
  },
  {
   "cell_type": "code",
   "execution_count": null,
   "metadata": {},
   "outputs": [],
   "source": [
    "def getQuantizationMatrix():      # 8\n",
    "    Q_Y = np.array([[16, 11, 10, 16, 24, 40, 51, 61],\n",
    "                    [12, 12, 14, 19, 26, 58, 60, 55],\n",
    "                    [14, 13, 16, 24, 40, 57, 69, 56],\n",
    "                    [14, 17, 22, 29, 51, 87, 80, 62],\n",
    "                    [18, 22, 37, 56, 68, 109, 103, 77],\n",
    "                    [24, 35, 55, 64, 81, 104, 113, 92],\n",
    "                    [49, 64, 78, 87, 103, 121, 120, 101],\n",
    "                    [72, 92, 95, 98, 112, 100, 103, 99]])\n",
    "\n",
    "    Q_CbCr = np.array([[17, 18, 24, 47, 99, 99, 99, 99],\n",
    "                       [18, 21, 26, 66, 99, 99, 99, 99],\n",
    "                       [24, 26, 56, 99, 99, 99, 99, 99],\n",
    "                       [47, 66, 99, 99, 99, 99, 99, 99],\n",
    "                       [99, 99, 99, 99, 99, 99, 99, 99],\n",
    "                       [99, 99, 99, 99, 99, 99, 99, 99],\n",
    "                       [99, 99, 99, 99, 99, 99, 99, 99],\n",
    "                       [99, 99, 99, 99, 99, 99, 99, 99]])\n",
    "\n",
    "    if requiredQuality == 100:\n",
    "        Q_Y = np.ones(np.shape(Q_Y))\n",
    "        Q_CbCr = np.ones(np.shape(Q_CbCr))\n",
    "        return Q_Y, Q_CbCr\n",
    "\n",
    "    elif requiredQuality > 50:\n",
    "        Q_Y = (Q_Y * ((100 - requiredQuality) / 50)).round()\n",
    "        Q_Y[Q_Y > 255] = 255\n",
    "        Q_Y = Q_Y.astype(np.uint8)\n",
    "\n",
    "        Q_CbCr = (Q_CbCr * ((100 - requiredQuality) / 50)).round()\n",
    "        Q_CbCr[Q_CbCr > 255] = 255\n",
    "        Q_CbCr = Q_CbCr.astype(np.uint8)\n",
    "        return Q_Y, Q_CbCr\n",
    "    else:\n",
    "        Q_Y = (Q_Y * (50 / requiredQuality)).round()\n",
    "        Q_Y[Q_Y > 255] = 255\n",
    "        Q_Y = Q_Y.astype(np.uint8)\n",
    "\n",
    "        Q_CbCr = (Q_CbCr * (50 / requiredQuality)).round()\n",
    "        Q_CbCr[Q_CbCr > 255] = 255\n",
    "        Q_CbCr = Q_CbCr.astype(np.uint8)\n",
    "        return Q_Y, Q_CbCr"
   ]
  },
  {
   "cell_type": "code",
   "execution_count": null,
   "metadata": {},
   "outputs": [],
   "source": [
    "def quantization(Y_dct, Cb_dct, Cr_dct):    # 8\n",
    "    Q_Y, Q_CbCr = getQuantizationMatrix()\n",
    "\n",
    "    Y_lines, Y_cols = np.shape(Y_dct)\n",
    "    Cb_lines, Cb_cols = np.shape(Cb_dct)\n",
    "\n",
    "    YQ , CbQ, CrQ = Y_dct, Cb_dct, Cr_dct\n",
    "\n",
    "    for i in range(0, Y_lines, opt):\n",
    "        for j in range(0, Y_cols, opt):\n",
    "            YQ[i:i + opt, j:j + opt] = np.round(YQ[i:i + opt, j:j + opt] / Q_Y)\n",
    "            \n",
    "    for i in range(0, Cb_lines, opt):\n",
    "        for j in range(0, Cb_cols, opt):\n",
    "            CbQ[i:i + opt, j:j + opt] = np.round(CbQ[i:i + opt, j:j + opt] / Q_CbCr)\n",
    "            CrQ[i:i + opt, j:j + opt] = np.round(CrQ[i:i + opt, j:j + opt] / Q_CbCr)\n",
    "\n",
    "    return YQ, CbQ, CrQ"
   ]
  },
  {
   "cell_type": "code",
   "execution_count": null,
   "metadata": {},
   "outputs": [],
   "source": [
    "def deQuantization(Y_Q, Cb_Q, Cr_Q):    # 8\n",
    "    Q_Y, Q_CbCr = getQuantizationMatrix()\n",
    "\n",
    "    Y_lines, Y_cols = np.shape(Y_Q)\n",
    "    Cb_lines, Cb_cols = np.shape(Cb_Q)\n",
    "\n",
    "    Y_dct, Cb_dct, Cr_dct = Y_Q, Cb_Q, Cr_Q\n",
    "\n",
    "    for i in range(0, Y_lines, opt):\n",
    "        for j in range(0, Y_cols, opt):\n",
    "            Y_dct[i:i + opt, j:j + opt] = Y_dct[i:i + opt, j:j + opt] * Q_Y\n",
    "                \n",
    "    for i in range(0, Cb_lines, opt):\n",
    "        for j in range(0, Cb_cols, opt):\n",
    "            Cb_dct[i:i + opt, j:j + opt] = Cb_dct[i:i + opt, j:j + opt] * Q_CbCr\n",
    "            Cr_dct[i:i + opt, j:j + opt] = Cr_dct[i:i + opt, j:j + opt] * Q_CbCr\n",
    "    \n",
    "    return Y_dct, Cb_dct, Cr_dct"
   ]
  },
  {
   "cell_type": "code",
   "execution_count": null,
   "metadata": {},
   "outputs": [],
   "source": [
    "def showQuantization(YQ, CbQ, CrQ):\n",
    "    fig = plt.figure(figsize=(15, 5))\n",
    "    fig.add_subplot(131)\n",
    "    plt.title(\"Y_DCTQ - \" + str(requiredQuality) + \"%\")\n",
    "    plt.imshow(np.log(abs(YQ) + 0.0001), cmGray)\n",
    "    fig.add_subplot(132)\n",
    "    plt.title(\"Cb_DCTQ - \" + str(requiredQuality) + \"%\")\n",
    "    plt.imshow(np.log(abs(CbQ) + 0.0001), cmGray)\n",
    "    fig.add_subplot(133)\n",
    "    plt.title(\"Cr_DCTQ - \" + str(requiredQuality) + \"%\")\n",
    "    plt.imshow(np.log(abs(CrQ) + 0.0001), cmGray)    "
   ]
  },
  {
   "cell_type": "markdown",
   "metadata": {},
   "source": [
    "<p align=\"center\">\n",
    "  <img src=\"Quantization_50.png\" />\n",
    "</p>"
   ]
  },
  {
   "cell_type": "markdown",
   "metadata": {},
   "source": [
    "## Exercise 9"
   ]
  },
  {
   "cell_type": "code",
   "execution_count": null,
   "metadata": {},
   "outputs": [],
   "source": [
    "def DCPM(YQ, CbQ, CrQ): # 9\n",
    "    Y_lines, Y_cols = np.shape(YQ)\n",
    "    C_lines, C_cols = np.shape(CbQ)\n",
    "\n",
    "    dcY0 = YQ[0, 0]\n",
    "    dcCb0 = CbQ[0, 0]\n",
    "    dcCr0 = CrQ[0, 0]\n",
    "\n",
    "    for i in range(8, Y_lines, 8):\n",
    "        for j in range(8, Y_cols, 8):\n",
    "            dcY = YQ[i, j]\n",
    "            diffY = dcY - dcY0\n",
    "            YQ[i, j] = diffY\n",
    "            dcY0 = dcY\n",
    "            if i < C_lines and j < C_cols:\n",
    "                dcCb = CbQ[i, j]\n",
    "                dcCr = CrQ[i, j]\n",
    "\n",
    "                diffCb = dcCb - dcCb0\n",
    "                diffCr = dcCr - dcCr0\n",
    "\n",
    "                CbQ[i, j] = diffCb\n",
    "                CrQ[i, j] = diffCr\n",
    "\n",
    "                dcCb0 = dcCb\n",
    "                dcCr0 = dcCr\n",
    "\n",
    "    return YQ, CbQ, CrQ"
   ]
  },
  {
   "cell_type": "code",
   "execution_count": null,
   "metadata": {},
   "outputs": [],
   "source": [
    "def IDCPM(Y_dcpm, Cb_dcpm, Cr_dcpm): # 9\n",
    "    Y_lines, Y_cols = np.shape(Y_dcpm)\n",
    "    C_lines, C_cols = np.shape(Cb_dcpm)\n",
    "\n",
    "    YQ , CbQ, CrQ = Y_dcpm, Cb_dcpm, Cr_dcpm\n",
    "\n",
    "    dcY0 = YQ[0, 0]\n",
    "    dcCb0 = CbQ[0, 0]\n",
    "    dcCr0 = CrQ[0, 0]\n",
    "\n",
    "    for i in range(opt, Y_lines, opt):\n",
    "        for j in range(opt, Y_cols, opt):\n",
    "            diffY = YQ[i, j]\n",
    "            diffY +=  dcY0\n",
    "            YQ[i, j] = diffY\n",
    "            dcY0 = diffY\n",
    "\n",
    "            if i < C_lines and j < C_cols:\n",
    "                diffCb = CbQ[i, j]\n",
    "                diffCr = CrQ[i, j]\n",
    "\n",
    "                diffCb += dcCb0\n",
    "                diffCr += dcCr0\n",
    "\n",
    "                CbQ[i, j] = diffCb\n",
    "                CrQ[i, j] = diffCr\n",
    "\n",
    "                dcCb0 = diffCb\n",
    "                dcCr0 = diffCr\n",
    "\n",
    "    return YQ, CbQ, CrQ"
   ]
  },
  {
   "cell_type": "code",
   "execution_count": null,
   "metadata": {},
   "outputs": [],
   "source": [
    "def showDCPM(Y_dcpm, Cb_dcpm, Cr_dcpm):\n",
    "    fig = plt.figure(figsize=(15, 5))\n",
    "    fig.add_subplot(131)\n",
    "    plt.title(\"Y_DCPM - \" + str(requiredQuality) + \"%\")\n",
    "    plt.imshow(np.log(abs(Y_dcpm) + 0.0001), cmGray)\n",
    "    fig.add_subplot(132)\n",
    "    plt.title(\"Cb_DCPM - \" + str(requiredQuality) + \"%\")\n",
    "    plt.imshow(np.log(abs(Cb_dcpm) + 0.0001), cmGray)\n",
    "    fig.add_subplot(133)\n",
    "    plt.title(\"Cr_DCPM - \" + str(requiredQuality) + \"%\")\n",
    "    plt.imshow(np.log(abs(Cr_dcpm) + 0.0001), cmGray)    "
   ]
  },
  {
   "cell_type": "markdown",
   "metadata": {},
   "source": [
    "<p align=\"center\">\n",
    "  <img src=\"DCPM.png\" />\n",
    "</p>"
   ]
  },
  {
   "cell_type": "markdown",
   "metadata": {},
   "source": [
    "## Exercise 10"
   ]
  },
  {
   "cell_type": "code",
   "execution_count": null,
   "metadata": {},
   "outputs": [],
   "source": []
  },
  {
   "cell_type": "markdown",
   "metadata": {},
   "source": [
    "## Main"
   ]
  },
  {
   "cell_type": "code",
   "execution_count": null,
   "metadata": {},
   "outputs": [],
   "source": [
    "import matplotlib.colors as cb_linesr\n",
    "import matplotlib.pyplot as plt\n",
    "import numpy as np\n",
    "from scipy.fftpack import dct, idct\n",
    "\n",
    "\n",
    "def main():\n",
    "    plt.close('all')\n",
    "\n",
    "    Y_dcpm, Cb_dcpm, Cr_dcpm = encoder()\n",
    "    decoder(Y_dcpm, Cb_dcpm, Cr_dcpm)\n",
    "\n",
    "    plt.show()\n",
    "\n",
    "\n",
    "if __name__ == '__main__':\n",
    "    img_name = \"barn_mountains\"\n",
    "\n",
    "    global dSample, opt, requiredQuality\n",
    "    requiredQuality = 50\n",
    "    dSample = 420\n",
    "    opt = 8\n",
    "    \n",
    "    cmr = cb_linesr.LinearSegmentedColormap.from_list(\n",
    "        'cmr', [(0, 0, 0), (1, 0, 0)], N=256)\n",
    "    cmg = cb_linesr.LinearSegmentedColormap.from_list(\n",
    "        'cmg', [(0, 0, 0), (0, 1, 0)], N=256)\n",
    "    cmb = cb_linesr.LinearSegmentedColormap.from_list(\n",
    "        'cmb', [(0, 0, 0), (0, 0, 1)], N=256)\n",
    "    cmGray = cb_linesr.LinearSegmentedColormap.from_list(\n",
    "        'cmGray', [(0, 0, 0), (1, 1, 1)], N=256)\n",
    "\n",
    "    main()"
   ]
  }
 ],
 "metadata": {
  "interpreter": {
   "hash": "104ab0b201326c003eb326b253436127765e9423f74595591084a446732f77fa"
  },
  "kernelspec": {
   "display_name": "Python 3 (ipykernel)",
   "language": "python",
   "name": "python3"
  },
  "language_info": {
   "codemirror_mode": {
    "name": "ipython",
    "version": 3
   },
   "file_extension": ".py",
   "mimetype": "text/x-python",
   "name": "python",
   "nbconvert_exporter": "python",
   "pygments_lexer": "ipython3",
   "version": "3.10.3"
  },
  "orig_nbformat": 4
 },
 "nbformat": 4,
 "nbformat_minor": 2
}
