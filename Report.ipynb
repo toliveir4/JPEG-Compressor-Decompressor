{
 "cells": [
  {
   "cell_type": "markdown",
   "metadata": {},
   "source": [
    "![UC logo](FCTUC_H_FundoClaro.png)"
   ]
  },
  {
   "cell_type": "markdown",
   "metadata": {},
   "source": [
    "# JPEG Compressor and Decompressor\n",
    "\n",
    "## Report + Code\n",
    "\n",
    "__Done by:__\n",
    "- Marco Pais - Nº 2019218\n",
    "- Tiago Oliveira - Nº 2019219068\n",
    "- Emílio - \n",
    "\n",
    "## Introduction\n",
    "\n",
    "\n",
    "## Exercise 1"
   ]
  }
 ],
 "metadata": {
  "language_info": {
   "name": "python"
  },
  "orig_nbformat": 4
 },
 "nbformat": 4,
 "nbformat_minor": 2
}
